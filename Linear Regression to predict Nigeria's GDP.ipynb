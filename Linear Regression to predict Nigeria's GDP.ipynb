{
 "cells": [
  {
   "cell_type": "code",
   "execution_count": 124,
   "metadata": {
    "collapsed": true
   },
   "outputs": [],
   "source": [
    "import numpy as np\n",
    "import pandas as pd\n",
    "import matplotlib.pyplot as plt\n",
    "import seaborn as sns\n",
    "from sklearn.model_selection import train_test_split\n",
    "from sklearn.linear_model import LinearRegression\n",
    "from sklearn import metrics"
   ]
  },
  {
   "cell_type": "code",
   "execution_count": 125,
   "metadata": {
    "collapsed": true
   },
   "outputs": [],
   "source": [
    "data = pd.read_csv('C:/Users/DAMILOLA/Desktop/Ugo/Practice ML/ML Datasets/GDP Per Person (1901-2011) (Gross Domestic Product per person every 5 years from 1901 to 2011.)/582176_1052283_bundle_archive/GDP Test/nigerian_gdp.csv')"
   ]
  },
  {
   "cell_type": "code",
   "execution_count": 126,
   "metadata": {},
   "outputs": [
    {
     "name": "stdout",
     "output_type": "stream",
     "text": [
      "(59, 2)\n"
     ]
    }
   ],
   "source": [
    "print(data.shape)"
   ]
  },
  {
   "cell_type": "code",
   "execution_count": 127,
   "metadata": {},
   "outputs": [
    {
     "name": "stdout",
     "output_type": "stream",
     "text": [
      "              year          gdp\n",
      "count    59.000000    59.000000\n",
      "mean   1989.000000   932.138644\n",
      "std      17.175564   872.411802\n",
      "min    1960.000000    92.960000\n",
      "25%    1974.500000   295.770000\n",
      "50%    1989.000000   556.700000\n",
      "75%    2003.500000  1462.405000\n",
      "max    2018.000000  3222.690000\n"
     ]
    }
   ],
   "source": [
    "print(data.describe())"
   ]
  },
  {
   "cell_type": "code",
   "execution_count": 128,
   "metadata": {},
   "outputs": [
    {
     "name": "stdout",
     "output_type": "stream",
     "text": [
      "    year      gdp\n",
      "0   1960    92.96\n",
      "1   1961    96.98\n",
      "2   1962   104.39\n",
      "3   1963   107.54\n",
      "4   1964   113.17\n",
      "5   1965   117.19\n",
      "6   1966   124.31\n",
      "7   1967    99.41\n",
      "8   1968    97.20\n",
      "9   1969   121.25\n",
      "10  1970   224.10\n",
      "11  1971   160.25\n",
      "12  1972   209.23\n",
      "13  1973   252.23\n",
      "14  1974   402.85\n",
      "15  1975   438.33\n",
      "16  1976   556.70\n",
      "17  1977   536.22\n",
      "18  1978   527.31\n",
      "19  1979   662.26\n",
      "20  1980   874.40\n",
      "21  1981  2180.20\n",
      "22  1982  1843.91\n",
      "23  1983  1222.63\n",
      "24  1984   902.22\n",
      "25  1985   882.52\n",
      "26  1986   639.01\n",
      "27  1987   598.26\n",
      "28  1988   549.24\n",
      "29  1989   474.23\n",
      "30  1990   567.53\n",
      "31  1991   502.91\n",
      "32  1992   477.18\n",
      "33  1993   270.22\n",
      "34  1994   321.32\n",
      "35  1995   408.18\n",
      "36  1996   461.52\n",
      "37  1997   479.98\n",
      "38  1998   469.43\n",
      "39  1999   497.84\n",
      "40  2000   567.93\n",
      "41  2001   590.38\n",
      "42  2002   741.75\n",
      "43  2003   795.39\n",
      "44  2004  1007.87\n",
      "45  2005  1268.38\n",
      "46  2006  1656.43\n",
      "47  2007  1883.46\n",
      "48  2008  2242.87\n",
      "49  2009  1891.34\n",
      "50  2010  2292.45\n",
      "51  2011  2520.40\n",
      "52  2012  2746.99\n",
      "53  2013  2998.07\n",
      "54  2014  3222.69\n",
      "55  2015  2730.43\n",
      "56  2016  2176.00\n",
      "57  2017  1968.56\n",
      "58  2018  2028.18\n"
     ]
    }
   ],
   "source": [
    "print(data)"
   ]
  },
  {
   "cell_type": "code",
   "execution_count": 130,
   "metadata": {},
   "outputs": [],
   "source": [
    "X = data.iloc[:, :-1].values\n",
    "y = data.iloc[:, 1].values"
   ]
  },
  {
   "cell_type": "code",
   "execution_count": 131,
   "metadata": {},
   "outputs": [
    {
     "data": {
      "image/png": "[encoded data removed]",
      "text/plain": [
       "<matplotlib.figure.Figure at 0x194781793c8>"
      ]
     },
     "metadata": {},
     "output_type": "display_data"
    }
   ],
   "source": [
    "sns.barplot(x='year', y='gdp', data=data)\n",
    "plt.show()"
   ]
  },
  {
   "cell_type": "code",
   "execution_count": 132,
   "metadata": {},
   "outputs": [],
   "source": [
    "X_train, X_test, y_train, y_test = train_test_split(X, y, test_size = 1/3, random_state = 0)"
   ]
  },
  {
   "cell_type": "code",
   "execution_count": 133,
   "metadata": {},
   "outputs": [
    {
     "data": {
      "text/plain": [
       "LinearRegression(copy_X=True, fit_intercept=True, n_jobs=1, normalize=False)"
      ]
     },
     "execution_count": 133,
     "metadata": {},
     "output_type": "execute_result"
    }
   ],
   "source": [
    "lr = LinearRegression()\n",
    "lr.fit(X_train, y_train)"
   ]
  },
  {
   "cell_type": "code",
   "execution_count": 134,
   "metadata": {},
   "outputs": [
    {
     "data": {
      "text/plain": [
       "array([  919.01618019,  1304.32725908,  1646.82599587,  1004.64086438,\n",
       "         276.8310487 ,  -108.48003019,  1261.51491698,  1775.26302217,\n",
       "        1518.38896957,   747.76681179,   -22.85534599,   234.0187066 ,\n",
       "        1090.26554858,  1561.20131167,  1218.70257488,  1604.01365377,\n",
       "        1860.88770636,   105.58168031,   405.268075  ,  1175.89023278])"
      ]
     },
     "execution_count": 134,
     "metadata": {},
     "output_type": "execute_result"
    }
   ],
   "source": [
    "y_pred = lr.predict(X_test)\n",
    "y_pred"
   ]
  },
  {
   "cell_type": "code",
   "execution_count": 146,
   "metadata": {},
   "outputs": [
    {
     "data": {
      "image/png": "[encoded data removed]",
      "text/plain": [
       "<matplotlib.figure.Figure at 0x1947839bf28>"
      ]
     },
     "metadata": {},
     "output_type": "display_data"
    }
   ],
   "source": [
    "plt.scatter(X_train, y_train, color = 'blue')\n",
    "plt.plot(X_train, lr.predict(X_train), color = 'red')\n",
    "plt.title('Year vs GDP (Test set)')\n",
    "plt.xlabel('Year')\n",
    "plt.ylabel('GDP')\n",
    "plt.show()"
   ]
  },
  {
   "cell_type": "code",
   "execution_count": 147,
   "metadata": {},
   "outputs": [
    {
     "data": {
      "image/png": "[encoded data removed]",
      "text/plain": [
       "<matplotlib.figure.Figure at 0x19478173208>"
      ]
     },
     "metadata": {},
     "output_type": "display_data"
    }
   ],
   "source": [
    "plt.scatter(X_test, y_test, color = 'blue')\n",
    "plt.plot(X_train, lr.predict(X_train), color = 'red')\n",
    "plt.title('Year vs GDP (Test set)')\n",
    "plt.xlabel('Year')\n",
    "plt.ylabel('GDP')\n",
    "plt.show()"
   ]
  },
  {
   "cell_type": "code",
   "execution_count": 148,
   "metadata": {},
   "outputs": [
    {
     "name": "stdout",
     "output_type": "stream",
     "text": [
      "MAE: 522.880044927\n",
      "MSE: 419366.361277\n",
      "RMSE: 22.8665704671\n"
     ]
    }
   ],
   "source": [
    "print('MAE:', metrics.mean_absolute_error(y_test, y_pred))\n",
    "print('MSE:', metrics.mean_squared_error(y_test, y_pred))\n",
    "print('RMSE:', np.sqrt(metrics.mean_absolute_error(y_test, y_pred)))"
   ]
  },
  {
   "cell_type": "code",
   "execution_count": null,
   "metadata": {
    "collapsed": true
   },
   "outputs": [],
   "source": []
  }
 ],
 "metadata": {
  "kernelspec": {
   "display_name": "Python 3",
   "language": "python",
   "name": "python3"
  },
  "language_info": {
   "codemirror_mode": {
    "name": "ipython",
    "version": 3
   },
   "file_extension": ".py",
   "mimetype": "text/x-python",
   "name": "python",
   "nbconvert_exporter": "python",
   "pygments_lexer": "ipython3",
   "version": "3.6.3"
  }
 },
 "nbformat": 4,
 "nbformat_minor": 2
}
